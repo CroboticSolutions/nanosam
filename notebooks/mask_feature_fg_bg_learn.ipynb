{
 "cells": [
  {
   "cell_type": "code",
   "execution_count": 559,
   "metadata": {},
   "outputs": [],
   "source": [
    "import cv2\n",
    "import numpy as np\n",
    "from mobile_sam.tracker import SamTracker, read_image"
   ]
  },
  {
   "cell_type": "code",
   "execution_count": 560,
   "metadata": {},
   "outputs": [],
   "source": [
    "tracker = SamTracker(\"../weights/mobile_sam.pt\")"
   ]
  },
  {
   "cell_type": "code",
   "execution_count": 561,
   "metadata": {},
   "outputs": [
    {
     "name": "stderr",
     "output_type": "stream",
     "text": [
      "100%|██████████| 99/99 [00:08<00:00, 12.03it/s]\n"
     ]
    }
   ],
   "source": [
    "video_writer = cv2.VideoWriter('../data/person_10.avi', cv2.VideoWriter_fourcc('M','J','P','G'), 20, (256, 256))\n",
    "bbox, mask = tracker.init(read_image(\"../data/images_track_1/frame_0.jpg\"), np.array([420, 100, 620, 400]))\n",
    "for i in tqdm.tqdm(range(1, 100)):\n",
    "    bbox, mask = tracker.update(read_image(f\"../data/images_track_1/frame_{i}.jpg\"), refine_iters=1)\n",
    "    mask = mask.detach().cpu().numpy()[0, 0] > 0\n",
    "    mask = mask.astype(np.uint8) * 255\n",
    "    mask = np.stack([mask, mask, mask], axis=-1)\n",
    "    # mask = cv2.resize(mask, (640, 480))\n",
    "    video_writer.write(mask)\n",
    "video_writer.release()"
   ]
  }
 ],
 "metadata": {
  "kernelspec": {
   "display_name": "Python 3.8.10 64-bit",
   "language": "python",
   "name": "python3"
  },
  "language_info": {
   "codemirror_mode": {
    "name": "ipython",
    "version": 3
   },
   "file_extension": ".py",
   "mimetype": "text/x-python",
   "name": "python",
   "nbconvert_exporter": "python",
   "pygments_lexer": "ipython3",
   "version": "3.8.10"
  },
  "orig_nbformat": 4,
  "vscode": {
   "interpreter": {
    "hash": "916dbcbb3f70747c44a77c7bcd40155683ae19c65e1c03b4aa3499c5328201f1"
   }
  }
 },
 "nbformat": 4,
 "nbformat_minor": 2
}
