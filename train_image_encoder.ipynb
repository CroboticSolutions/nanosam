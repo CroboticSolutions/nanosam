{
 "cells": [
  {
   "cell_type": "code",
   "execution_count": 1,
   "metadata": {},
   "outputs": [
    {
     "name": "stderr",
     "output_type": "stream",
     "text": [
      "/usr/local/lib/python3.8/dist-packages/tqdm/auto.py:22: TqdmWarning: IProgress not found. Please update jupyter and ipywidgets. See https://ipywidgets.readthedocs.io/en/stable/user_install.html\n",
      "  from .autonotebook import tqdm as notebook_tqdm\n"
     ]
    }
   ],
   "source": [
    "from image_encoder_cnn import ImageEncoderCNN"
   ]
  },
  {
   "cell_type": "code",
   "execution_count": 2,
   "metadata": {},
   "outputs": [],
   "source": [
    "encoder = ImageEncoderCNN(\n",
    "    \"resnet18\"\n",
    ").cuda().eval()"
   ]
  },
  {
   "cell_type": "code",
   "execution_count": 3,
   "metadata": {},
   "outputs": [],
   "source": [
    "import torch"
   ]
  },
  {
   "cell_type": "code",
   "execution_count": 4,
   "metadata": {},
   "outputs": [],
   "source": [
    "data = torch.randn(1, 3, 1024, 1024).cuda()"
   ]
  },
  {
   "cell_type": "code",
   "execution_count": 5,
   "metadata": {},
   "outputs": [],
   "source": [
    "output = encoder(data)"
   ]
  },
  {
   "cell_type": "code",
   "execution_count": 1,
   "metadata": {},
   "outputs": [],
   "source": [
    "import numpy as np"
   ]
  },
  {
   "cell_type": "code",
   "execution_count": 2,
   "metadata": {},
   "outputs": [],
   "source": [
    "x = np.random.randn(1, 256, 64, 64)"
   ]
  },
  {
   "cell_type": "code",
   "execution_count": 4,
   "metadata": {},
   "outputs": [],
   "source": [
    "y = x.argmax(axis=1, keepdims=False)"
   ]
  },
  {
   "cell_type": "code",
   "execution_count": 132,
   "metadata": {},
   "outputs": [],
   "source": [
    "import numpy as np\n",
    "import matplotlib.pyplot as plt"
   ]
  },
  {
   "cell_type": "code",
   "execution_count": 148,
   "metadata": {},
   "outputs": [],
   "source": [
    "features = np.random.randn(256, 64, 64)"
   ]
  },
  {
   "cell_type": "code",
   "execution_count": 153,
   "metadata": {},
   "outputs": [],
   "source": [
    "def sample_grid_coordinates(h, w, k):\n",
    "    mx, my = np.meshgrid(np.arange(w), np.arange(h))\n",
    "    mxy = np.stack([mx, my], axis=-1)\n",
    "    mxy = np.reshape(mxy, (h * w, -1))\n",
    "    sample = np.random.choice(h * w, size=k, replace=False)\n",
    "    return mxy[sample]\n",
    "\n",
    "\n",
    "def sample_features(features, k):\n",
    "    h = features.shape[1]\n",
    "    w = features.shape[2]\n",
    "    coords = sample_grid_coordinates(h, w, k)\n",
    "    features_at_coords = features[:, coords[:, 1], coords[:, 0]]\n",
    "    return {\n",
    "        \"features\": features_at_coords,\n",
    "        \"coords\": coords\n",
    "    }"
   ]
  },
  {
   "cell_type": "code",
   "execution_count": 154,
   "metadata": {},
   "outputs": [
    {
     "data": {
      "text/plain": [
       "{'features': array([[ 0.4178992 ,  2.00292767, -0.55731787, ...,  1.96142229,\n",
       "         -1.40525961,  0.36923869],\n",
       "        [-0.34312241,  1.5875818 ,  0.86329787, ..., -1.18330586,\n",
       "          1.23868913,  0.35177243],\n",
       "        [ 0.9443882 ,  0.7014943 , -0.74800829, ...,  1.18643491,\n",
       "         -0.83180381, -0.5760992 ],\n",
       "        ...,\n",
       "        [-1.44003245,  0.17808806,  0.42754805, ...,  0.72516389,\n",
       "         -1.29457001, -0.63627424],\n",
       "        [-1.62357627,  2.36978293, -0.72640856, ..., -0.41067554,\n",
       "          0.06816029, -0.34810582],\n",
       "        [-0.1736004 , -1.42554351,  1.61629397, ...,  0.99047916,\n",
       "         -0.52500908, -0.81780006]]),\n",
       " 'coords': array([[52, 45],\n",
       "        [13, 16],\n",
       "        [30, 18],\n",
       "        [49, 27],\n",
       "        [53, 17],\n",
       "        [25, 14],\n",
       "        [ 8,  2],\n",
       "        [33, 38],\n",
       "        [47, 30],\n",
       "        [39, 56],\n",
       "        [61, 42],\n",
       "        [34, 13],\n",
       "        [32, 18],\n",
       "        [ 6, 37],\n",
       "        [ 6, 34],\n",
       "        [20, 63],\n",
       "        [58, 56],\n",
       "        [10, 18],\n",
       "        [23, 23],\n",
       "        [50, 49],\n",
       "        [57,  6],\n",
       "        [18, 58],\n",
       "        [32, 10],\n",
       "        [30, 27],\n",
       "        [ 8, 34],\n",
       "        [54, 14],\n",
       "        [60, 15],\n",
       "        [13, 31],\n",
       "        [21, 37],\n",
       "        [61, 20],\n",
       "        [54, 49],\n",
       "        [36, 19]])}"
      ]
     },
     "execution_count": 154,
     "metadata": {},
     "output_type": "execute_result"
    }
   ],
   "source": [
    "sample_features(features, 32)"
   ]
  },
  {
   "cell_type": "code",
   "execution_count": 152,
   "metadata": {},
   "outputs": [
    {
     "data": {
      "text/plain": [
       "(256, 64)"
      ]
     },
     "execution_count": 152,
     "metadata": {},
     "output_type": "execute_result"
    }
   ],
   "source": [
    "features[:, xy[:, 1], xy[:, 0]].shape"
   ]
  },
  {
   "cell_type": "code",
   "execution_count": 147,
   "metadata": {},
   "outputs": [
    {
     "data": {
      "image/png": "[encoded data removed]",
      "text/plain": [
       "<Figure size 640x480 with 1 Axes>"
      ]
     },
     "metadata": {},
     "output_type": "display_data"
    }
   ],
   "source": [
    "xy = sample_grid(64, 64, 64)\n",
    "\n",
    "plt.plot(xy[:, 0], xy[:, 1], 'g.')\n",
    "plt.show()"
   ]
  },
  {
   "cell_type": "code",
   "execution_count": 70,
   "metadata": {},
   "outputs": [
    {
     "data": {
      "text/plain": [
       "(2, 4096)"
      ]
     },
     "execution_count": 70,
     "metadata": {},
     "output_type": "execute_result"
    }
   ],
   "source": [
    "mxy.shape"
   ]
  },
  {
   "cell_type": "code",
   "execution_count": 68,
   "metadata": {},
   "outputs": [
    {
     "data": {
      "text/plain": [
       "array([2592, 3927, 2209,  217,   10])"
      ]
     },
     "execution_count": 68,
     "metadata": {},
     "output_type": "execute_result"
    }
   ],
   "source": [
    "np.random.choice(64*64, size=5, replace=False)"
   ]
  },
  {
   "cell_type": "code",
   "execution_count": null,
   "metadata": {},
   "outputs": [],
   "source": []
  },
  {
   "cell_type": "code",
   "execution_count": 12,
   "metadata": {},
   "outputs": [
    {
     "data": {
      "text/plain": [
       "(64, 64)"
      ]
     },
     "execution_count": 12,
     "metadata": {},
     "output_type": "execute_result"
    }
   ],
   "source": [
    "my.shape"
   ]
  },
  {
   "cell_type": "code",
   "execution_count": 8,
   "metadata": {},
   "outputs": [
    {
     "data": {
      "text/plain": [
       "array([[[ 99, 218, 132, ...,  66,  62, 175],\n",
       "        [173, 114, 208, ...,  90, 104, 254],\n",
       "        [102, 233, 236, ...,  85, 180,  57],\n",
       "        ...,\n",
       "        [115,  34, 223, ..., 254, 108, 130],\n",
       "        [203,  29, 133, ..., 161,  77,  78],\n",
       "        [116,  36, 189, ..., 192,  37, 154]]])"
      ]
     },
     "execution_count": 8,
     "metadata": {},
     "output_type": "execute_result"
    }
   ],
   "source": [
    "def sparsify_random_coord2d(features, k):\n",
    "    "
   ]
  }
 ],
 "metadata": {
  "kernelspec": {
   "display_name": "Python 3",
   "language": "python",
   "name": "python3"
  },
  "language_info": {
   "codemirror_mode": {
    "name": "ipython",
    "version": 3
   },
   "file_extension": ".py",
   "mimetype": "text/x-python",
   "name": "python",
   "nbconvert_exporter": "python",
   "pygments_lexer": "ipython3",
   "version": "3.8.10"
  },
  "orig_nbformat": 4
 },
 "nbformat": 4,
 "nbformat_minor": 2
}
